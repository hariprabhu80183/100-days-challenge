{
  "nbformat": 4,
  "nbformat_minor": 0,
  "metadata": {
    "colab": {
      "provenance": []
    },
    "kernelspec": {
      "name": "python3",
      "display_name": "Python 3"
    },
    "language_info": {
      "name": "python"
    }
  },
  "cells": [
    {
      "cell_type": "code",
      "execution_count": null,
      "metadata": {
        "colab": {
          "base_uri": "https://localhost:8080/"
        },
        "id": "y1rYPhrY2e0M",
        "outputId": "63a91db7-a415-4fa7-9c76-f791a120377f"
      },
      "outputs": [
        {
          "output_type": "stream",
          "name": "stdout",
          "text": [
            "Overwriting vector_add.cu\n"
          ]
        }
      ],
      "source": [
        "%%writefile vector_add.cu\n",
        "#include <iostream>\n",
        "#include <cuda_runtime.h>  // Optional but recommended\n",
        "\n",
        "__global__ void vectorAdd(const float* A, const float* B, float* C, int N) {\n",
        "    int i = blockIdx.x * blockDim.x + threadIdx.x;\n",
        "    if (i < N) {\n",
        "        C[i] = A[i] + B[i];\n",
        "    }\n",
        "}\n",
        "\n",
        "int main() {\n",
        "    const int N = 10;\n",
        "    float A[N], B[N], C[N];\n",
        "\n",
        "    // Initialize input arrays\n",
        "    for (int i = 0; i < N; i++) {\n",
        "        A[i] = i;\n",
        "        B[i] = i * 2;\n",
        "    }\n",
        "\n",
        "    float *d_a, *d_b, *d_c;\n",
        "    cudaMalloc(&d_a, N * sizeof(float));\n",
        "    cudaMalloc(&d_b, N * sizeof(float));\n",
        "    cudaMalloc(&d_c, N * sizeof(float));\n",
        "\n",
        "    cudaMemcpy(d_a, A, N * sizeof(float), cudaMemcpyHostToDevice);\n",
        "    cudaMemcpy(d_b, B, N * sizeof(float), cudaMemcpyHostToDevice);\n",
        "\n",
        "    int blocksize = 256;\n",
        "    int gridsize = (N + blocksize - 1) / blocksize;\n",
        "\n",
        "    vectorAdd<<<gridsize, blocksize>>>(d_a, d_b, d_c, N);\n",
        "    cudaDeviceSynchronize();  // Ensure kernel completes before copying back\n",
        "\n",
        "    cudaMemcpy(C, d_c, N * sizeof(float), cudaMemcpyDeviceToHost);\n",
        "\n",
        "    // Print the result\n",
        "    for (int i = 0; i < N; i++) {\n",
        "        std::cout << A[i] << \" + \" << B[i] << \" = \" << C[i] << std::endl;\n",
        "    }\n",
        "\n",
        "    cudaFree(d_a);\n",
        "    cudaFree(d_b);\n",
        "    cudaFree(d_c);\n",
        "\n",
        "    return 0;\n",
        "}"
      ]
    },
    {
      "cell_type": "markdown",
      "source": [
        "# New Section"
      ],
      "metadata": {
        "id": "lwzwWm_z3v2q"
      }
    },
    {
      "cell_type": "code",
      "source": [
        "# Compile with the specified architecture\n",
        "!nvcc vector_add.cu -o vector_add -gencode arch=compute_75,code=sm_75\n",
        "\n",
        "# Run the executable\n",
        "!./vector_add"
      ],
      "metadata": {
        "colab": {
          "base_uri": "https://localhost:8080/"
        },
        "id": "TskdZf232jGx",
        "outputId": "72c2c56d-ccf8-4d6f-e82c-d1547cc47b84"
      },
      "execution_count": null,
      "outputs": [
        {
          "output_type": "stream",
          "name": "stdout",
          "text": [
            "0 + 0 = 0\n",
            "1 + 2 = 0\n",
            "2 + 4 = 0\n",
            "3 + 6 = 0\n",
            "4 + 8 = 0\n",
            "5 + 10 = 0\n",
            "6 + 12 = 0\n",
            "7 + 14 = 0\n",
            "8 + 16 = 0\n",
            "9 + 18 = 0\n"
          ]
        }
      ]
    },
    {
      "cell_type": "markdown",
      "source": [],
      "metadata": {
        "id": "wSdGxL_92i9C"
      }
    }
  ]
}